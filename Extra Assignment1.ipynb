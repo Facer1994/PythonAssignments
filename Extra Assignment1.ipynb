{
 "cells": [
  {
   "cell_type": "code",
   "execution_count": 1,
   "id": "57009b3a",
   "metadata": {},
   "outputs": [
    {
     "name": "stdout",
     "output_type": "stream",
     "text": [
      "HOPE AI\n"
     ]
    }
   ],
   "source": [
    "print(\"HOPE AI\")"
   ]
  },
  {
   "cell_type": "code",
   "execution_count": 2,
   "id": "c9ca7a20",
   "metadata": {},
   "outputs": [
    {
     "name": "stdout",
     "output_type": "stream",
     "text": [
      "Enter your institute name? : Hope AI\n"
     ]
    }
   ],
   "source": [
    "institute_val= input(\"Enter your institute name? : \")"
   ]
  },
  {
   "cell_type": "code",
   "execution_count": 3,
   "id": "55d5b4af",
   "metadata": {},
   "outputs": [
    {
     "name": "stdout",
     "output_type": "stream",
     "text": [
      "Enter your name: jai\n",
      "Enter your age: 28\n",
      "Enter your school name: Jawahar\n",
      "Enter your drgree: Computer Science\n"
     ]
    }
   ],
   "source": [
    "name=input(\"Enter your name: \")\n",
    "age=input(\"Enter your age: \")\n",
    "school_name=input(\"Enter your school name: \")\n",
    "degree=input(\"Enter your drgree: \")"
   ]
  },
  {
   "cell_type": "code",
   "execution_count": 4,
   "id": "844210cb",
   "metadata": {},
   "outputs": [
    {
     "name": "stdout",
     "output_type": "stream",
     "text": [
      "a= 43\n",
      "b= 34\n",
      "add = 77\n"
     ]
    }
   ],
   "source": [
    "a=43\n",
    "b=34\n",
    "add=a+b\n",
    "print(\"a=\", a)\n",
    "print(\"b=\", b)\n",
    "print(\"add =\", add)"
   ]
  },
  {
   "cell_type": "code",
   "execution_count": 5,
   "id": "56ee92fb",
   "metadata": {},
   "outputs": [
    {
     "name": "stdout",
     "output_type": "stream",
     "text": [
      "a= 43\n",
      "b= 34\n",
      "sub = 9\n"
     ]
    }
   ],
   "source": [
    "a=43\n",
    "b=34\n",
    "sub=a-b\n",
    "print(\"a=\", a)\n",
    "print(\"b=\", b)\n",
    "print(\"sub =\", sub)"
   ]
  },
  {
   "cell_type": "code",
   "execution_count": 6,
   "id": "1dc1fabb",
   "metadata": {},
   "outputs": [
    {
     "name": "stdout",
     "output_type": "stream",
     "text": [
      "a= 63\n",
      "b= 97\n",
      "Mul = 6111\n"
     ]
    }
   ],
   "source": [
    "a=63\n",
    "b=97\n",
    "mul=a*b\n",
    "print(\"a=\", a)\n",
    "print(\"b=\", b)\n",
    "print(\"Mul =\", mul)"
   ]
  },
  {
   "cell_type": "code",
   "execution_count": 7,
   "id": "18e67768",
   "metadata": {},
   "outputs": [
    {
     "name": "stdout",
     "output_type": "stream",
     "text": [
      "a= 76\n",
      "b= 31\n",
      "Float Div = 2.4516129032258065\n"
     ]
    }
   ],
   "source": [
    "a= 76\n",
    "b= 31 \n",
    "print(\"a=\" ,a)\n",
    "print(\"b=\" ,b)\n",
    "floatdiv= a/b\n",
    "print(\"Float Div =\",floatdiv)"
   ]
  },
  {
   "cell_type": "code",
   "execution_count": 8,
   "id": "66776cae",
   "metadata": {},
   "outputs": [
    {
     "name": "stdout",
     "output_type": "stream",
     "text": [
      "a= 76\n",
      "b= 31\n",
      "Floor Div = 2\n"
     ]
    }
   ],
   "source": [
    "a= 76\n",
    "b= 31 \n",
    "print(\"a=\" ,a)\n",
    "print(\"b=\" ,b)\n",
    "floordiv= a//b\n",
    "print(\"Floor Div =\",floordiv)"
   ]
  },
  {
   "cell_type": "code",
   "execution_count": 9,
   "id": "72068441",
   "metadata": {},
   "outputs": [
    {
     "name": "stdout",
     "output_type": "stream",
     "text": [
      "a= 76\n",
      "b= 31\n",
      "Modulo = 14\n"
     ]
    }
   ],
   "source": [
    "a= 76\n",
    "b= 31 \n",
    "print(\"a=\" ,a)\n",
    "print(\"b=\" ,b)\n",
    "Modulo= a%b\n",
    "print(\"Modulo =\",Modulo)"
   ]
  },
  {
   "cell_type": "code",
   "execution_count": 10,
   "id": "9b2c3b6c",
   "metadata": {},
   "outputs": [
    {
     "name": "stdout",
     "output_type": "stream",
     "text": [
      "a= 4\n",
      "b= 4\n",
      "Power = 256\n"
     ]
    }
   ],
   "source": [
    "a= 4\n",
    "b= 4 \n",
    "print(\"a=\" ,a)\n",
    "print(\"b=\" ,b)\n",
    "power= 4**4\n",
    "print(\"Power =\",power)"
   ]
  },
  {
   "cell_type": "code",
   "execution_count": null,
   "id": "5e72923e",
   "metadata": {},
   "outputs": [],
   "source": []
  }
 ],
 "metadata": {
  "kernelspec": {
   "display_name": "Python 3 (ipykernel)",
   "language": "python",
   "name": "python3"
  },
  "language_info": {
   "codemirror_mode": {
    "name": "ipython",
    "version": 3
   },
   "file_extension": ".py",
   "mimetype": "text/x-python",
   "name": "python",
   "nbconvert_exporter": "python",
   "pygments_lexer": "ipython3",
   "version": "3.9.7"
  }
 },
 "nbformat": 4,
 "nbformat_minor": 5
}
