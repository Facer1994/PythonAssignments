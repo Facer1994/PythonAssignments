{
 "cells": [
  {
   "cell_type": "code",
   "execution_count": 4,
   "id": "cf454d41",
   "metadata": {},
   "outputs": [
    {
     "name": "stdout",
     "output_type": "stream",
     "text": [
      "value: 10\n",
      "Correct\n"
     ]
    }
   ],
   "source": [
    "value=10\n",
    "print(\"value:\", 10)\n",
    "if(value==10):\n",
    "    print(\"Correct\")"
   ]
  },
  {
   "cell_type": "code",
   "execution_count": 6,
   "id": "8d486d65",
   "metadata": {},
   "outputs": [
    {
     "name": "stdout",
     "output_type": "stream",
     "text": [
      "Enter the password: HOPE@123\n",
      "Your password is correct\n"
     ]
    }
   ],
   "source": [
    "password= input(\"Enter the password: \")\n",
    "if(password==\"HOPE@123\"):\n",
    "    print(\"Your password is correct\")\n",
    "else:\n",
    "    print(\"Please enter the valid password\")"
   ]
  },
  {
   "cell_type": "code",
   "execution_count": 3,
   "id": "b22c1ac2",
   "metadata": {},
   "outputs": [
    {
     "name": "stdout",
     "output_type": "stream",
     "text": [
      "Adult\n"
     ]
    }
   ],
   "source": [
    "age=20\n",
    "if(age<19):\n",
    "    print(\"children\")\n",
    "elif(age<21):\n",
    "    print(\"Adult\")\n",
    "elif(age<40):\n",
    "    print(\"Citizen\")\n",
    "elif(age<80):\n",
    "    print(\"Senior Citizen\")\n",
    "else:\n",
    "    print(\"Please enter the valid age..\")"
   ]
  },
  {
   "cell_type": "code",
   "execution_count": 5,
   "id": "99bc1d54",
   "metadata": {},
   "outputs": [
    {
     "name": "stdout",
     "output_type": "stream",
     "text": [
      "Enter any number:-1\n",
      "No is negative\n"
     ]
    }
   ],
   "source": [
    "num= int(input(\"Enter any number:\"))\n",
    "if(num>0):\n",
    "    print(\"No is positive\")\n",
    "else:\n",
    "    print(\"No is negative\")"
   ]
  },
  {
   "cell_type": "code",
   "execution_count": 8,
   "id": "7a80af26",
   "metadata": {},
   "outputs": [
    {
     "name": "stdout",
     "output_type": "stream",
     "text": [
      "Enter a number to check:22\n",
      "No is not divisible by 5\n"
     ]
    }
   ],
   "source": [
    "num2= int(input(\"Enter a number to check:\"))\n",
    "if((num2%5)==0):\n",
    "    print(\"No is divisible by 5\")\n",
    "else:\n",
    "    print(\"No is not divisible by 5\")"
   ]
  },
  {
   "cell_type": "code",
   "execution_count": null,
   "id": "82dbefe6",
   "metadata": {},
   "outputs": [],
   "source": []
  }
 ],
 "metadata": {
  "kernelspec": {
   "display_name": "Python 3 (ipykernel)",
   "language": "python",
   "name": "python3"
  },
  "language_info": {
   "codemirror_mode": {
    "name": "ipython",
    "version": 3
   },
   "file_extension": ".py",
   "mimetype": "text/x-python",
   "name": "python",
   "nbconvert_exporter": "python",
   "pygments_lexer": "ipython3",
   "version": "3.9.7"
  }
 },
 "nbformat": 4,
 "nbformat_minor": 5
}
